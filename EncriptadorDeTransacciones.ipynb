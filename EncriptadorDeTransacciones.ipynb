{
  "nbformat": 4,
  "nbformat_minor": 0,
  "metadata": {
    "colab": {
      "name": "EncriptadorDeTransacciones.ipynb",
      "provenance": [],
      "collapsed_sections": [],
      "authorship_tag": "ABX9TyMeiuVy0ZQjH5DqnAmFPwmT",
      "include_colab_link": true
    },
    "kernelspec": {
      "name": "python3",
      "display_name": "Python 3"
    },
    "language_info": {
      "name": "python"
    }
  },
  "cells": [
    {
      "cell_type": "markdown",
      "metadata": {
        "id": "view-in-github",
        "colab_type": "text"
      },
      "source": [
        "<a href=\"https://colab.research.google.com/github/Mategoc/Proyecto-Matematicas-Discretas/blob/main/EncriptadorDeTransacciones.ipynb\" target=\"_parent\"><img src=\"https://colab.research.google.com/assets/colab-badge.svg\" alt=\"Open In Colab\"/></a>"
      ]
    },
    {
      "cell_type": "code",
      "execution_count": null,
      "metadata": {
        "colab": {
          "base_uri": "https://localhost:8080/"
        },
        "id": "wzAMcvwfyUkx",
        "outputId": "bdd59f2e-880a-4f8d-a441-58895f20b6d2"
      },
      "outputs": [
        {
          "output_type": "stream",
          "name": "stdout",
          "text": [
            "Escriba un 3 o un 4:  3\n",
            "['805', '757', '746', '769', '90', '60', '64', '830', '25', '661']\n"
          ]
        }
      ],
      "source": [
        "from os import lstat\n",
        "import pandas as pd\n",
        "df = pd.read_excel(\"Datos.xlsx\") #Devuelve toda la información del archivo\n",
        "d = df.to_dict(\"records\") #Numero de filas\n",
        "#tupla1 = df.loc[0]\n",
        "#print(tupla1[\"columna\"])\n",
        "lst= []\n",
        "listabalance =[]\n",
        "operacionbalance=[]\n",
        "balancefinal=[]\n",
        "blc\n",
        "def cesar(numero): \n",
        "  for i in range(0,len(d)): #Recorre toda las filas de la base de datos\n",
        "    tupla1 = df.loc[i] #Asigna a nuestra variable iterable una fila de la base de datos\n",
        "    string = tupla1[\"columna\"]  #Me devuelve toda la columna\n",
        "    output = string.split(',')  #Esto guarda en una lista elementos separados por ',' en df\n",
        "    listabalance.append(output[numero]) #Agregamos a listabalance la posición 4 de nuestro output(base de datos)\n",
        "\n",
        "  for i in range(0,len(listabalance)): #Este for recorre nuestra listabalance\n",
        "    lst=[]\n",
        "    \n",
        "    for i in listabalance[i]: #Recorre el número de cifras que tiene en la posición i\n",
        "        lst.append(int(i)) #Se separa el número en la posición listabalance[i]\n",
        "      \n",
        "    for i in range (0,len(lst)): #Recorre la lista que tiene las cifras separadas\n",
        "      lst[i] = (lst[i] +5)%10 #Encripta cada número sumando 5 y sacando su módulo 10 \n",
        "    blc =''.join(map(str,lst)) #Junta las cifras para convertirlas en números (451,303,22,etc) \n",
        "    balancefinal.append(blc) #Agrega los números separandolas en una nueva lista\n",
        "\n",
        "  print(balancefinal)\n",
        "user_input = int(input(\"Escriba un 3 o un 4:  \")) #El usuario introduce un número entre 3 ó 4\n",
        "                                                  #\"3\" para el monto, \"4\" para el balance \n",
        "                                                  #Dicho numero se pasa a int para poder ser usado en la función\n",
        "cesar(user_input)\n",
        "\n",
        "\n",
        "\n"
      ]
    },
    {
      "cell_type": "code",
      "source": [
        ""
      ],
      "metadata": {
        "id": "LKiqV8W1uXWm"
      },
      "execution_count": null,
      "outputs": []
    }
  ]
}