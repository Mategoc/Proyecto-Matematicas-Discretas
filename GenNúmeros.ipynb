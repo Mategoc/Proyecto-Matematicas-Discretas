{
  "nbformat": 4,
  "nbformat_minor": 0,
  "metadata": {
    "colab": {
      "name": "GenNúmeros.ipynb",
      "provenance": [],
      "collapsed_sections": [],
      "authorship_tag": "ABX9TyMzMTw48ag4PndkuycAp+EI",
      "include_colab_link": true
    },
    "kernelspec": {
      "name": "python3",
      "display_name": "Python 3"
    },
    "language_info": {
      "name": "python"
    }
  },
  "cells": [
    {
      "cell_type": "markdown",
      "metadata": {
        "id": "view-in-github",
        "colab_type": "text"
      },
      "source": [
        "<a href=\"https://colab.research.google.com/github/Mategoc/Proyecto-Matematicas-Discretas/blob/main/GenN%C3%BAmeros.ipynb\" target=\"_parent\"><img src=\"https://colab.research.google.com/assets/colab-badge.svg\" alt=\"Open In Colab\"/></a>"
      ]
    },
    {
      "cell_type": "code",
      "execution_count": null,
      "metadata": {
        "id": "1-_heebzDEuA"
      },
      "outputs": [],
      "source": [
        "#include<iostream>\n",
        "#include<stdio.h>\n",
        "#include<conio.h>\n",
        "#include<string.h>\n",
        "#include<math.h>\n",
        "#include<stdlib.h>\n",
        "using namespace std;\n",
        "int main(){\n",
        "double cantidad;\n",
        "    for(int i=0;i<=1000;i++)\n",
        "    {\n",
        "        cantidad= 5+(11*i);\n",
        "        \n",
        "        cout<<cantidad<<endl;\n",
        "        \n",
        "    }\n",
        "    \n",
        "    \n",
        "    \n",
        "\n",
        "}\n",
        "\n",
        "Aqui generamos x(mod11)=5\n",
        "\n",
        "\n",
        "Esta hecho en c++ por su sencillez. Para verificarlo puede hacerlo en https://www.onlinegdb.com/\n",
        "\n",
        "#########\n",
        "\n",
        "#include<iostream>\n",
        "#include<stdio.h>\n",
        "#include<conio.h>\n",
        "#include<string.h>\n",
        "#include<math.h>\n",
        "#include<stdlib.h>\n",
        "using namespace std;\n",
        "int main(){\n",
        "double cantidad;\n",
        "    for(int i=0;i<=1000;i++)\n",
        "    {\n",
        "        cantidad= 2+(11*i);\n",
        "        \n",
        "        cout<<cantidad<<endl;\n",
        "        \n",
        "    }\n",
        "    \n",
        "    \n",
        "    \n",
        "\n",
        "}\n",
        "\n",
        "Aquí se genera x(mod11)=2"
      ]
    },
    {
      "cell_type": "markdown",
      "source": [
        "# Nueva sección"
      ],
      "metadata": {
        "id": "2UHy8QNlD8YS"
      }
    }
  ]
}